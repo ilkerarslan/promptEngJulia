{
 "cells": [
  {
   "attachments": {},
   "cell_type": "markdown",
   "metadata": {},
   "source": [
    "# Transforming\n",
    "\n",
    "In this notebook, we will explore how to use Large Language Models for text transformation tasks such as language translation, spelling and grammar checking, tone adjustment, and format conversion."
   ]
  },
  {
   "attachments": {},
   "cell_type": "markdown",
   "metadata": {},
   "source": [
    "## Setup\n",
    "Load the API key"
   ]
  },
  {
   "cell_type": "code",
   "execution_count": 44,
   "metadata": {},
   "outputs": [],
   "source": [
    "using DotEnv\n",
    "using HTTP, JSON\n",
    "using IJulia\n",
    "using Markdown\n",
    "using Base: display"
   ]
  },
  {
   "cell_type": "code",
   "execution_count": 2,
   "metadata": {},
   "outputs": [],
   "source": [
    "DotEnv.load()\n",
    "api_key = ENV[\"OPENAI_API_KEY\"];"
   ]
  },
  {
   "attachments": {},
   "cell_type": "markdown",
   "metadata": {},
   "source": [
    "## Helper Function\n",
    "\n",
    "Documentation to make the HTTP request:\n",
    "https://platform.openai.com/docs/api-reference/making-requests"
   ]
  },
  {
   "cell_type": "code",
   "execution_count": 3,
   "metadata": {},
   "outputs": [
    {
     "data": {
      "text/plain": [
       "get_completion (generic function with 3 methods)"
      ]
     },
     "metadata": {},
     "output_type": "display_data"
    }
   ],
   "source": [
    "using HTTP, JSON\n",
    "\n",
    "function get_completion(prompt, api_key=api_key, temperature=0)\n",
    "    url = \"https://api.openai.com/v1/chat/completions\"\n",
    "    headers = [\n",
    "        \"Content-Type\" => \"application/json\",\n",
    "        \"Authorization\" => \"Bearer $api_key\"\n",
    "    ]\n",
    "    data = Dict(\n",
    "        \"model\" => \"gpt-3.5-turbo\",\n",
    "        \"messages\" => [Dict(\"role\" => \"user\", \"content\" => prompt)],\n",
    "        \"temperature\" => temperature\n",
    "    )\n",
    "    body = JSON.json(data)\n",
    "    response = HTTP.post(url, headers=headers, body=body)\n",
    "    response_dict = JSON.parse(String(response.body))\n",
    "\n",
    "    # Extract the message\n",
    "    message = response_dict[\"choices\"][1][\"message\"][\"content\"]\n",
    "\n",
    "    return message\n",
    "end"
   ]
  },
  {
   "attachments": {},
   "cell_type": "markdown",
   "metadata": {},
   "source": [
    "## Translation\n",
    "\n",
    "ChatGPT is trained with sources in many languages. This gives the model the ability to do translation. Here are some examples of how to use this capability."
   ]
  },
  {
   "cell_type": "code",
   "execution_count": 4,
   "metadata": {},
   "outputs": [
    {
     "name": "stdout",
     "output_type": "stream",
     "text": [
      "Hola, me gustaría ordenar una licuadora."
     ]
    }
   ],
   "source": [
    "prompt = \"\"\"\n",
    "Translate the following English text to Spanish:\n",
    "```Hi, I would like to order a blender```\n",
    "\"\"\"\n",
    "response = get_completion(prompt)\n",
    "print(response)"
   ]
  },
  {
   "cell_type": "code",
   "execution_count": 5,
   "metadata": {},
   "outputs": [
    {
     "name": "stdout",
     "output_type": "stream",
     "text": [
      "This is French."
     ]
    }
   ],
   "source": [
    "prompt = \"\"\"\n",
    "Tell me which language this is: \n",
    "```Combien coûte le lampadaire?```\n",
    "\"\"\"\n",
    "response = get_completion(prompt)\n",
    "print(response)"
   ]
  },
  {
   "cell_type": "code",
   "execution_count": 7,
   "metadata": {},
   "outputs": [
    {
     "name": "stdout",
     "output_type": "stream",
     "text": [
      "French: Je veux commander un ballon de basket\n",
      "Spanish: Quiero ordenar un balón de baloncesto\n",
      "English: I want to order a basketball"
     ]
    }
   ],
   "source": [
    "prompt = \"\"\"\n",
    "Translate the following  text to French and Spanish\n",
    "and English: \n",
    "```I want to order a basketball```\n",
    "\"\"\"\n",
    "response = get_completion(prompt)\n",
    "print(response)"
   ]
  },
  {
   "cell_type": "code",
   "execution_count": 8,
   "metadata": {},
   "outputs": [
    {
     "name": "stdout",
     "output_type": "stream",
     "text": [
      "Formal: ¿Le gustaría ordenar una almohada?\n",
      "Informal: ¿Te gustaría ordenar una almohada?"
     ]
    }
   ],
   "source": [
    "prompt = \"\"\"\n",
    "Translate the following text to Spanish in both the\n",
    "formal and informal forms: \n",
    "'Would you like to order a pillow?'\n",
    "\"\"\"\n",
    "response = get_completion(prompt)\n",
    "print(response)"
   ]
  },
  {
   "cell_type": "markdown",
   "metadata": {},
   "source": [
    "### Universal Translator\n",
    "Imagine you are in charge of IT at a large multinational e-commerce company. Users are messaging you with IT issues in all their native languages. Your staff is from all over the world and speaks only their native languages. You need a universal translator!"
   ]
  },
  {
   "cell_type": "code",
   "execution_count": 9,
   "metadata": {},
   "outputs": [
    {
     "data": {
      "text/plain": [
       "5-element Vector{String}:\n",
       " \"La performance du système est plus lente que d'habitude.\"\n",
       " \"Mi monitor tiene píxeles que no se iluminan.\"\n",
       " \"Il mio mouse non funziona\"\n",
       " \"Mój klawisz Ctrl jest zepsuty\"\n",
       " \"我的屏幕在闪烁\""
      ]
     },
     "metadata": {},
     "output_type": "display_data"
    }
   ],
   "source": [
    "user_messages = [\n",
    "  \"La performance du système est plus lente que d'habitude.\",  # System performance is slower than normal         \n",
    "  \"Mi monitor tiene píxeles que no se iluminan.\",              # My monitor has pixels that are not lighting\n",
    "  \"Il mio mouse non funziona\",                                 # My mouse is not working\n",
    "  \"Mój klawisz Ctrl jest zepsuty\",                             # My keyboard has a broken control key\n",
    "  \"我的屏幕在闪烁\"                                              # My screen is flashing\n",
    "] "
   ]
  },
  {
   "cell_type": "code",
   "execution_count": 10,
   "metadata": {},
   "outputs": [
    {
     "name": "stdout",
     "output_type": "stream",
     "text": [
      "Original message (This is French.): La performance du système est plus lente que d'habitude.\n"
     ]
    },
    {
     "name": "stdout",
     "output_type": "stream",
     "text": [
      "English: The system performance is slower than usual.\n",
      "Korean: 시스템 성능이 평소보다 느립니다.\n"
     ]
    },
    {
     "name": "stdout",
     "output_type": "stream",
     "text": [
      "Original message (This is Spanish.): Mi monitor tiene píxeles que no se iluminan.\n"
     ]
    },
    {
     "name": "stdout",
     "output_type": "stream",
     "text": [
      "English: My monitor has pixels that don't light up.\n",
      "Korean: 내 모니터에는 불이 켜지지 않는 픽셀이 있습니다.\n"
     ]
    },
    {
     "name": "stdout",
     "output_type": "stream",
     "text": [
      "Original message (This is Italian.): Il mio mouse non funziona\n"
     ]
    },
    {
     "name": "stdout",
     "output_type": "stream",
     "text": [
      "English: My mouse is not working\n",
      "Korean: 내 마우스가 작동하지 않습니다\n"
     ]
    },
    {
     "name": "stdout",
     "output_type": "stream",
     "text": [
      "Original message (This is Polish.): Mój klawisz Ctrl jest zepsuty\n"
     ]
    },
    {
     "name": "stdout",
     "output_type": "stream",
     "text": [
      "English: My Ctrl key is broken\n",
      "Korean: 제 Ctrl 키가 고장 났어요\n"
     ]
    },
    {
     "name": "stdout",
     "output_type": "stream",
     "text": [
      "Original message (This is Chinese (Simplified).): 我的屏幕在闪烁\n"
     ]
    },
    {
     "name": "stdout",
     "output_type": "stream",
     "text": [
      "English: My screen is flickering.\n",
      "Korean: 내 화면이 깜빡입니다.\n"
     ]
    }
   ],
   "source": [
    "for issue in user_messages\n",
    "    prompt = \"Tell me what language this is: ```$issue```\"\n",
    "    lang = get_completion(prompt)\n",
    "    println(\"Original message ($lang): $issue\")\n",
    "\n",
    "    prompt = \"\"\"\n",
    "    Translate the following  text to English \\\n",
    "    and Korean: ```$issue```\n",
    "    \"\"\"\n",
    "    response = get_completion(prompt)\n",
    "    print(response, \"\\n\")\n",
    "end"
   ]
  },
  {
   "attachments": {},
   "cell_type": "markdown",
   "metadata": {},
   "source": [
    "## Tone Transformation\n",
    "Writing can vary based on the intended audience. ChatGPT can produce different tones.\n"
   ]
  },
  {
   "cell_type": "code",
   "execution_count": 11,
   "metadata": {},
   "outputs": [
    {
     "name": "stdout",
     "output_type": "stream",
     "text": [
      "Dear Sir/Madam,\n",
      "\n",
      "I am writing to bring to your attention a standing lamp that I believe may be of interest to you. Please find attached the specifications for your review.\n",
      "\n",
      "Thank you for your time and consideration.\n",
      "\n",
      "Sincerely,\n",
      "\n",
      "Joe"
     ]
    }
   ],
   "source": [
    "prompt = \"\"\"\n",
    "Translate the following from slang to a business letter: \n",
    "'Dude, This is Joe, check out this spec on this standing lamp.'\n",
    "\"\"\"\n",
    "response = get_completion(prompt)\n",
    "print(response)"
   ]
  },
  {
   "attachments": {},
   "cell_type": "markdown",
   "metadata": {},
   "source": [
    "## Format Conversion\n",
    "ChatGPT can translate between formats. The prompt should describe the input and output formats."
   ]
  },
  {
   "cell_type": "code",
   "execution_count": 15,
   "metadata": {},
   "outputs": [
    {
     "data": {
      "text/plain": [
       "\"{ \\\"resturant employees\\\" :[ \\n    {\\\"name\\\":\\\"Shyam\\\", \\\"email\\\":\\\"shyamjaiswal@gmail.com\\\"},\\n    {\\\"name\\\":\\\"Bob\\\", \\\"email\\\":\\\"bob32@gmail.com\\\"},\\n    {\\\"name\\\":\\\"Jai\\\", \\\"email\\\":\\\"jai87@gmail.com\\\"}\\n]}\""
      ]
     },
     "metadata": {},
     "output_type": "display_data"
    }
   ],
   "source": [
    "data_json = \"\"\"{ \"resturant employees\" :[ \n",
    "    {\"name\":\"Shyam\", \"email\":\"shyamjaiswal@gmail.com\"},\n",
    "    {\"name\":\"Bob\", \"email\":\"bob32@gmail.com\"},\n",
    "    {\"name\":\"Jai\", \"email\":\"jai87@gmail.com\"}\n",
    "]}\"\"\""
   ]
  },
  {
   "cell_type": "code",
   "execution_count": 16,
   "metadata": {},
   "outputs": [
    {
     "name": "stdout",
     "output_type": "stream",
     "text": [
      "<table>\n",
      "  <caption>Resturant Employees</caption>\n",
      "  <thead>\n",
      "    <tr>\n",
      "      <th>Name</th>\n",
      "      <th>Email</th>\n",
      "    </tr>\n",
      "  </thead>\n",
      "  <tbody>\n",
      "    <tr>\n",
      "      <td>Shyam</td>\n",
      "      <td>shyamjaiswal@gmail.com</td>\n",
      "    </tr>\n",
      "    <tr>\n",
      "      <td>Bob</td>\n",
      "      <td>bob32@gmail.com</td>\n",
      "    </tr>\n",
      "    <tr>\n",
      "      <td>Jai</td>\n",
      "      <td>jai87@gmail.com</td>\n",
      "    </tr>\n",
      "  </tbody>\n",
      "</table>"
     ]
    }
   ],
   "source": [
    "\n",
    "prompt = \"\"\"\n",
    "Translate the following python dictionary from JSON to an HTML\n",
    "table with column headers and title: $data_json\n",
    "\"\"\"\n",
    "response = get_completion(prompt)\n",
    "print(response)"
   ]
  },
  {
   "cell_type": "code",
   "execution_count": 19,
   "metadata": {},
   "outputs": [
    {
     "data": {
      "text/html": [
       "<table>\n",
       "  <caption>Resturant Employees</caption>\n",
       "  <thead>\n",
       "    <tr>\n",
       "      <th>Name</th>\n",
       "      <th>Email</th>\n",
       "    </tr>\n",
       "  </thead>\n",
       "  <tbody>\n",
       "    <tr>\n",
       "      <td>Shyam</td>\n",
       "      <td>shyamjaiswal@gmail.com</td>\n",
       "    </tr>\n",
       "    <tr>\n",
       "      <td>Bob</td>\n",
       "      <td>bob32@gmail.com</td>\n",
       "    </tr>\n",
       "    <tr>\n",
       "      <td>Jai</td>\n",
       "      <td>jai87@gmail.com</td>\n",
       "    </tr>\n",
       "  </tbody>\n",
       "</table>"
      ]
     },
     "metadata": {},
     "output_type": "display_data"
    }
   ],
   "source": [
    "display(\"text/html\", response)"
   ]
  },
  {
   "attachments": {},
   "cell_type": "markdown",
   "metadata": {},
   "source": [
    "## Spellcheck/Grammar check.\n",
    "\n",
    "Here are some examples of common grammar and spelling problems and the LLM's response. \n",
    "\n",
    "To signal to the LLM that you want it to proofread your text, you instruct the model to 'proofread' or 'proofread and correct'."
   ]
  },
  {
   "cell_type": "code",
   "execution_count": 21,
   "metadata": {},
   "outputs": [
    {
     "name": "stdout",
     "output_type": "stream",
     "text": [
      "The girl with the black and white puppies has a ball."
     ]
    },
    {
     "name": "stdout",
     "output_type": "stream",
     "text": [
      "No errors found."
     ]
    },
    {
     "name": "stdout",
     "output_type": "stream",
     "text": [
      "It's going to be a long day. Does the car need its oil changed?"
     ]
    },
    {
     "name": "stdout",
     "output_type": "stream",
     "text": [
      "There goes my freedom. They're going to bring their suitcases."
     ]
    },
    {
     "name": "stdout",
     "output_type": "stream",
     "text": [
      "You're going to need your notebook."
     ]
    },
    {
     "name": "stdout",
     "output_type": "stream",
     "text": [
      "\"That medicine affects my ability to sleep. Have you heard of the butterfly effect?\""
     ]
    },
    {
     "name": "stdout",
     "output_type": "stream",
     "text": [
      "This phrase is to check ChatGPT for spelling ability."
     ]
    }
   ],
   "source": [
    "text = [ \n",
    "  \"The girl with the black and white puppies have a ball.\",  # The girl has a ball.\n",
    "  \"Yolanda has her notebook.\", # ok\n",
    "  \"Its going to be a long day. Does the car need it’s oil changed?\",  # Homonyms\n",
    "  \"Their goes my freedom. There going to bring they’re suitcases.\",  # Homonyms\n",
    "  \"Your going to need you’re notebook.\",  # Homonyms\n",
    "  \"That medicine effects my ability to sleep. Have you heard of the butterfly affect?\", # Homonyms\n",
    "  \"This phrase is to cherck chatGPT for speling abilitty\"  # spelling\n",
    "]\n",
    "for t in text\n",
    "    prompt = \"\"\"Proofread and correct the following text\n",
    "    and rewrite the corrected version. If you don't find\n",
    "    and errors, just say \"No errors found\". Don't use \n",
    "    any punctuation around the text:\n",
    "    ```$t```\"\"\"\n",
    "    response = get_completion(prompt)\n",
    "    print(response)\n",
    "end"
   ]
  },
  {
   "cell_type": "code",
   "execution_count": 23,
   "metadata": {},
   "outputs": [
    {
     "name": "stdout",
     "output_type": "stream",
     "text": [
      "I got this for my daughter's birthday because she keeps taking mine from my room. Yes, adults also like pandas too. She takes it everywhere with her, and it's super soft and cute. However, one of the ears is a bit lower than the other, and I don't think that was designed to be asymmetrical. Additionally, it's a bit small for what I paid for it. I think there might be other options that are bigger for the same price. On the positive side, it arrived a day earlier than expected, so I got to play with it myself before I gave it to my daughter."
     ]
    }
   ],
   "source": [
    "text = \"\"\"\n",
    "Got this for my daughter for her birthday cuz she keeps taking\n",
    "mine from my room.  Yes, adults also like pandas too.  She takes\n",
    "it everywhere with her, and it's super soft and cute.  One of the \n",
    "ears is a bit lower than the other, and I don't think that was \n",
    "designed to be asymmetrical. It's a bit small for what I paid for it \n",
    "though. I think there might be other options that are bigger for \n",
    "the same price.  It arrived a day earlier than expected, so I got \n",
    "to play with it myself before I gave it to my daughter.\n",
    "\"\"\"\n",
    "prompt = \"proofread and correct this review: ```$text```\"\n",
    "response = get_completion(prompt)\n",
    "print(response)"
   ]
  },
  {
   "attachments": {},
   "cell_type": "markdown",
   "metadata": {},
   "source": [
    "**In the original Python code, the Redlines library is utilized to identify the differences between the 'text' and 'response' variables. Unfortunately, I have not yet found a corresponding solution in Julia.**"
   ]
  },
  {
   "cell_type": "code",
   "execution_count": 45,
   "metadata": {},
   "outputs": [
    {
     "data": {
      "text/latex": [
       "Title: A Soft and Cute Panda Plush Toy for All Ages\n",
       "\n",
       "Introduction: As a parent, finding the perfect gift for your child's birthday can be a daunting task. However, I stumbled upon a soft and cute panda plush toy that not only made my daughter happy but also brought joy to me as an adult. In this review, I will share my experience with this product and provide an honest assessment of its features.\n",
       "\n",
       "Product Description: The panda plush toy is made of high-quality materials that make it super soft and cuddly. Its adorable design is perfect for children and adults alike, making it a versatile gift option. The toy is small enough to carry around, making it an ideal companion for your child on their adventures.\n",
       "\n",
       "Pros: My daughter loves this toy and takes it everywhere with her. The softness and cuteness of the toy make it irresistible to both children and adults. The toy arrived a day earlier than expected, which was a pleasant surprise. It allowed me to play with it before giving it to my daughter, and I must say, I was impressed.\n",
       "\n",
       "Cons: One of the ears is a bit lower than the other, which makes the toy asymmetrical. Although this may not be a significant issue for some, it may bother those who prefer symmetry. Additionally, the toy is a bit small for its price, and there may be other options available that are bigger for the same price.\n",
       "\n",
       "Conclusion: Overall, the panda plush toy is an excellent gift option for children and adults who love soft and cute toys. Despite its minor flaws, the toy's quality and design make it a worthwhile purchase. If you're looking for a versatile and adorable gift option, this panda plush toy is definitely worth considering.\n",
       "\n"
      ],
      "text/markdown": [
       "Title: A Soft and Cute Panda Plush Toy for All Ages\n",
       "\n",
       "Introduction: As a parent, finding the perfect gift for your child's birthday can be a daunting task. However, I stumbled upon a soft and cute panda plush toy that not only made my daughter happy but also brought joy to me as an adult. In this review, I will share my experience with this product and provide an honest assessment of its features.\n",
       "\n",
       "Product Description: The panda plush toy is made of high-quality materials that make it super soft and cuddly. Its adorable design is perfect for children and adults alike, making it a versatile gift option. The toy is small enough to carry around, making it an ideal companion for your child on their adventures.\n",
       "\n",
       "Pros: My daughter loves this toy and takes it everywhere with her. The softness and cuteness of the toy make it irresistible to both children and adults. The toy arrived a day earlier than expected, which was a pleasant surprise. It allowed me to play with it before giving it to my daughter, and I must say, I was impressed.\n",
       "\n",
       "Cons: One of the ears is a bit lower than the other, which makes the toy asymmetrical. Although this may not be a significant issue for some, it may bother those who prefer symmetry. Additionally, the toy is a bit small for its price, and there may be other options available that are bigger for the same price.\n",
       "\n",
       "Conclusion: Overall, the panda plush toy is an excellent gift option for children and adults who love soft and cute toys. Despite its minor flaws, the toy's quality and design make it a worthwhile purchase. If you're looking for a versatile and adorable gift option, this panda plush toy is definitely worth considering.\n"
      ],
      "text/plain": [
       "  Title: A Soft and Cute Panda Plush Toy for All Ages\n",
       "\n",
       "  Introduction: As a parent, finding the perfect gift for your child's\n",
       "  birthday can be a daunting task. However, I stumbled upon a soft and cute\n",
       "  panda plush toy that not only made my daughter happy but also brought joy to\n",
       "  me as an adult. In this review, I will share my experience with this product\n",
       "  and provide an honest assessment of its features.\n",
       "\n",
       "  Product Description: The panda plush toy is made of high-quality materials\n",
       "  that make it super soft and cuddly. Its adorable design is perfect for\n",
       "  children and adults alike, making it a versatile gift option. The toy is\n",
       "  small enough to carry around, making it an ideal companion for your child on\n",
       "  their adventures.\n",
       "\n",
       "  Pros: My daughter loves this toy and takes it everywhere with her. The\n",
       "  softness and cuteness of the toy make it irresistible to both children and\n",
       "  adults. The toy arrived a day earlier than expected, which was a pleasant\n",
       "  surprise. It allowed me to play with it before giving it to my daughter, and\n",
       "  I must say, I was impressed.\n",
       "\n",
       "  Cons: One of the ears is a bit lower than the other, which makes the toy\n",
       "  asymmetrical. Although this may not be a significant issue for some, it may\n",
       "  bother those who prefer symmetry. Additionally, the toy is a bit small for\n",
       "  its price, and there may be other options available that are bigger for the\n",
       "  same price.\n",
       "\n",
       "  Conclusion: Overall, the panda plush toy is an excellent gift option for\n",
       "  children and adults who love soft and cute toys. Despite its minor flaws,\n",
       "  the toy's quality and design make it a worthwhile purchase. If you're\n",
       "  looking for a versatile and adorable gift option, this panda plush toy is\n",
       "  definitely worth considering."
      ]
     },
     "metadata": {},
     "output_type": "display_data"
    }
   ],
   "source": [
    "prompt = \"\"\"\n",
    "proofread and correct this review. Make it more compelling. \n",
    "Ensure it follows APA style guide and targets an advanced reader. \n",
    "Output in markdown format.\n",
    "Text: ```$text```\n",
    "\"\"\"\n",
    "response = get_completion(prompt)\n",
    "display(Markdown.parse(response))"
   ]
  },
  {
   "attachments": {},
   "cell_type": "markdown",
   "metadata": {},
   "source": [
    "Thanks to the following sites:\n",
    "\n",
    "https://writingprompts.com/bad-grammar-examples/"
   ]
  }
 ],
 "metadata": {
  "kernelspec": {
   "display_name": "Julia 1.8.5",
   "language": "julia",
   "name": "julia-1.8"
  },
  "language_info": {
   "file_extension": ".jl",
   "mimetype": "application/julia",
   "name": "julia",
   "version": "1.8.5"
  },
  "orig_nbformat": 4
 },
 "nbformat": 4,
 "nbformat_minor": 2
}
