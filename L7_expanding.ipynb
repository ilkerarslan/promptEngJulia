{
 "cells": [
  {
   "attachments": {},
   "cell_type": "markdown",
   "metadata": {},
   "source": [
    "# Expanding\n",
    "In this lesson, you will generate customer service emails that are tailored to each customer's review."
   ]
  },
  {
   "attachments": {},
   "cell_type": "markdown",
   "metadata": {},
   "source": [
    "## Setup\n",
    "Load the API key"
   ]
  },
  {
   "cell_type": "code",
   "execution_count": 1,
   "metadata": {},
   "outputs": [],
   "source": [
    "using DotEnv\n",
    "using HTTP, JSON\n",
    "using IJulia\n",
    "using Markdown\n",
    "using Base: display"
   ]
  },
  {
   "cell_type": "code",
   "execution_count": 2,
   "metadata": {},
   "outputs": [],
   "source": [
    "DotEnv.load()\n",
    "api_key = ENV[\"OPENAI_API_KEY\"];"
   ]
  },
  {
   "attachments": {},
   "cell_type": "markdown",
   "metadata": {},
   "source": [
    "## Helper Function\n",
    "\n",
    "Documentation to make the HTTP request:\n",
    "https://platform.openai.com/docs/api-reference/making-requests"
   ]
  },
  {
   "cell_type": "code",
   "execution_count": 11,
   "metadata": {},
   "outputs": [
    {
     "data": {
      "text/plain": [
       "get_completion (generic function with 3 methods)"
      ]
     },
     "metadata": {},
     "output_type": "display_data"
    }
   ],
   "source": [
    "using HTTP, JSON\n",
    "\n",
    "function get_completion(prompt; api_key=api_key, temperature=0)\n",
    "    url = \"https://api.openai.com/v1/chat/completions\"\n",
    "    headers = [\n",
    "        \"Content-Type\" => \"application/json\",\n",
    "        \"Authorization\" => \"Bearer $api_key\"\n",
    "    ]\n",
    "    data = Dict(\n",
    "        \"model\" => \"gpt-3.5-turbo\",\n",
    "        \"messages\" => [Dict(\"role\" => \"user\", \"content\" => prompt)],\n",
    "        \"temperature\" => temperature\n",
    "    )\n",
    "    body = JSON.json(data)\n",
    "    response = HTTP.post(url, headers=headers, body=body)\n",
    "    response_dict = JSON.parse(String(response.body))\n",
    "\n",
    "    # Extract the message\n",
    "    message = response_dict[\"choices\"][1][\"message\"][\"content\"]\n",
    "\n",
    "    return message\n",
    "end"
   ]
  },
  {
   "attachments": {},
   "cell_type": "markdown",
   "metadata": {},
   "source": [
    "## Customize the automated reply to a customer email"
   ]
  },
  {
   "cell_type": "code",
   "execution_count": 12,
   "metadata": {},
   "outputs": [],
   "source": [
    "# given the sentiment from the lesson on \"inferring\",\n",
    "# and the original customer message, customize the email\n",
    "sentiment = \"negative\"\n",
    "\n",
    "# review for a blender\n",
    "review = \"\"\"\n",
    "So, they still had the 17 piece system on seasonal \n",
    "sale for around \\$49 in the month of November, about \n",
    "half off, but for some reason (call it price gouging) \n",
    "around the second week of December the prices all went \n",
    "up to about anywhere from between \\$70-\\$89 for the same \n",
    "system. And the 11 piece system went up around \\$10 or \n",
    "so in price also from the earlier sale price of \\$29. \n",
    "So it looks okay, but if you look at the base, the part \n",
    "where the blade locks into place doesn’t look as good \n",
    "as in previous editions from a few years ago, but I \n",
    "plan to be very gentle with it (example, I crush \n",
    "very hard items like beans, ice, rice, etc. in the  \n",
    "blender first then pulverize them in the serving size \n",
    "I want in the blender then switch to the whipping \n",
    "blade for a finer flour, and use the cross cutting blade \n",
    "first when making smoothies, then use the flat blade \n",
    "if I need them finer/less pulpy). Special tip when making \n",
    "smoothies, finely cut and freeze the fruits and \n",
    "vegetables (if using spinach-lightly stew soften the  \n",
    "spinach then freeze until ready for use-and if making \n",
    "sorbet, use a small to medium sized food processor)  \n",
    "that you plan to use that way you can avoid adding so \n",
    "much ice if at all-when making your smoothie. \n",
    "After about a year, the motor was making a funny noise. \n",
    "I called customer service but the warranty expired \n",
    "already, so I had to buy another one. FYI: The overall \n",
    "quality has gone done in these types of products, so \n",
    "they are kind of counting on brand recognition and \n",
    "consumer loyalty to maintain sales. Got it in about \n",
    "two days.\n",
    "\"\"\";"
   ]
  },
  {
   "cell_type": "code",
   "execution_count": 13,
   "metadata": {},
   "outputs": [
    {
     "name": "stdout",
     "output_type": "stream",
     "text": [
      "Dear valued customer,\n",
      "\n",
      "Thank you for taking the time to leave a review about your recent purchase of the 17 piece system. We are sorry to hear that you experienced a price increase and that the quality of the product did not meet your expectations. We apologize for any inconvenience this may have caused.\n",
      "\n",
      "We would like to assure you that we take all feedback seriously and we are constantly working to improve our products and services. If you have any further concerns, please do not hesitate to reach out to our customer service team who will be happy to assist you.\n",
      "\n",
      "Thank you again for your review and for choosing our brand. We hope to have the opportunity to serve you better in the future.\n",
      "\n",
      "Best regards,\n",
      "\n",
      "AI customer agent"
     ]
    }
   ],
   "source": [
    "prompt = \"\"\"\n",
    "You are a customer service AI assistant.\n",
    "Your task is to send an email reply to a valued customer.\n",
    "Given the customer email delimited by ```, \n",
    "Generate a reply to thank the customer for their review.\n",
    "If the sentiment is positive or neutral, thank them for \n",
    "their review.\n",
    "If the sentiment is negative, apologize and suggest that \n",
    "they can reach out to customer service. \n",
    "Make sure to use specific details from the review.\n",
    "Write in a concise and professional tone.\n",
    "Sign the email as `AI customer agent`.\n",
    "Customer review: ```$review```\n",
    "Review sentiment: $sentiment\n",
    "\"\"\"\n",
    "response = get_completion(prompt)\n",
    "print(response)"
   ]
  },
  {
   "attachments": {},
   "cell_type": "markdown",
   "metadata": {},
   "source": [
    "## Remind the model to use details from the customer's email"
   ]
  },
  {
   "cell_type": "code",
   "execution_count": 14,
   "metadata": {},
   "outputs": [
    {
     "name": "stdout",
     "output_type": "stream",
     "text": [
      "Dear valued customer,\n",
      "\n",
      "Thank you for taking the time to leave a review about your recent purchase of our 17 piece system. We appreciate your feedback and we are sorry to hear that you experienced a price increase on the product and that the quality did not meet your expectations. \n",
      "\n",
      "We apologize for any inconvenience this may have caused you. We take pride in our products and we strive to provide quality items at a fair price. We understand that you had an issue with the motor after a year of use and we regret that the warranty had already expired. \n",
      "\n",
      "We would like to make this right for you. Please contact our customer service department and we would be happy to assist you with any further concerns. We value your feedback and we will use it to improve our products and services.\n",
      "\n",
      "Thank you again for your review and for choosing our brand. \n",
      "\n",
      "Best regards, \n",
      "AI customer agent"
     ]
    }
   ],
   "source": [
    "prompt = \"\"\"\n",
    "You are a customer service AI assistant.\n",
    "Your task is to send an email reply to a valued customer.\n",
    "Given the customer email delimited by ```, \n",
    "Generate a reply to thank the customer for their review.\n",
    "If the sentiment is positive or neutral, thank them for \n",
    "their review.\n",
    "If the sentiment is negative, apologize and suggest that \n",
    "they can reach out to customer service. \n",
    "Make sure to use specific details from the review.\n",
    "Write in a concise and professional tone.\n",
    "Sign the email as `AI customer agent`.\n",
    "Customer review: ```$review```\n",
    "Review sentiment: $sentiment\n",
    "\"\"\"\n",
    "response = get_completion(prompt; temperature=0.7)\n",
    "print(response)"
   ]
  },
  {
   "cell_type": "code",
   "execution_count": null,
   "metadata": {},
   "outputs": [],
   "source": []
  }
 ],
 "metadata": {
  "kernelspec": {
   "display_name": "Julia 1.8.5",
   "language": "julia",
   "name": "julia-1.8"
  },
  "language_info": {
   "file_extension": ".jl",
   "mimetype": "application/julia",
   "name": "julia",
   "version": "1.8.5"
  },
  "orig_nbformat": 4
 },
 "nbformat": 4,
 "nbformat_minor": 2
}
