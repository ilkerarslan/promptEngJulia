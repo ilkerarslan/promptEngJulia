{
 "cells": [
  {
   "attachments": {},
   "cell_type": "markdown",
   "metadata": {},
   "source": [
    "# Summarizing\n",
    "In this lesson, you will summarize text with a focus on specific topics."
   ]
  },
  {
   "attachments": {},
   "cell_type": "markdown",
   "metadata": {},
   "source": [
    "## Setup\n",
    "Load the API key"
   ]
  },
  {
   "cell_type": "code",
   "execution_count": 4,
   "metadata": {},
   "outputs": [],
   "source": [
    "using DotEnv\n",
    "using HTTP, JSON"
   ]
  },
  {
   "cell_type": "code",
   "execution_count": 5,
   "metadata": {},
   "outputs": [],
   "source": [
    "DotEnv.load()\n",
    "api_key = ENV[\"OPENAI_API_KEY\"];"
   ]
  },
  {
   "attachments": {},
   "cell_type": "markdown",
   "metadata": {},
   "source": [
    "## Helper Function\n",
    "\n",
    "Documentation to make the HTTP request:\n",
    "https://platform.openai.com/docs/api-reference/making-requests"
   ]
  },
  {
   "cell_type": "code",
   "execution_count": 6,
   "metadata": {},
   "outputs": [
    {
     "data": {
      "text/plain": [
       "get_completion (generic function with 3 methods)"
      ]
     },
     "metadata": {},
     "output_type": "display_data"
    }
   ],
   "source": [
    "using HTTP, JSON\n",
    "\n",
    "function get_completion(prompt, api_key=api_key, temperature=0)\n",
    "    url = \"https://api.openai.com/v1/chat/completions\"\n",
    "    headers = [\n",
    "        \"Content-Type\" => \"application/json\",\n",
    "        \"Authorization\" => \"Bearer $api_key\"\n",
    "    ]\n",
    "    data = Dict(\n",
    "        \"model\" => \"gpt-3.5-turbo\",\n",
    "        \"messages\" => [Dict(\"role\" => \"user\", \"content\" => prompt)],\n",
    "        \"temperature\" => temperature\n",
    "    )\n",
    "    body = JSON.json(data)\n",
    "    response = HTTP.post(url, headers=headers, body=body)\n",
    "    response_dict = JSON.parse(String(response.body))\n",
    "\n",
    "    # Extract the message\n",
    "    message = response_dict[\"choices\"][1][\"message\"][\"content\"]\n",
    "\n",
    "    return message\n",
    "end"
   ]
  },
  {
   "attachments": {},
   "cell_type": "markdown",
   "metadata": {},
   "source": [
    "## Text to summarize"
   ]
  },
  {
   "cell_type": "code",
   "execution_count": 7,
   "metadata": {},
   "outputs": [
    {
     "data": {
      "text/plain": [
       "\"Got this panda plush toy for my daughter's birthday,\\nwho loves it and takes it everywhere. It's soft and \\nsuper cute, and its face has a friendly look. It's \\na bit small for what I paid though. I think there \\nmight be other options that are bigger for the \\nsame price. It arrived a day earlier than expected, \\nso I got to play with it myself before I gave it\\nto her.\\n\""
      ]
     },
     "metadata": {},
     "output_type": "display_data"
    }
   ],
   "source": [
    "prod_review = \"\"\"\n",
    "Got this panda plush toy for my daughter's birthday,\n",
    "who loves it and takes it everywhere. It's soft and \n",
    "super cute, and its face has a friendly look. It's \n",
    "a bit small for what I paid though. I think there \n",
    "might be other options that are bigger for the \n",
    "same price. It arrived a day earlier than expected, \n",
    "so I got to play with it myself before I gave it\n",
    "to her.\n",
    "\"\"\""
   ]
  },
  {
   "attachments": {},
   "cell_type": "markdown",
   "metadata": {},
   "source": [
    "Summarize with a word/sentence/character limit"
   ]
  },
  {
   "cell_type": "code",
   "execution_count": 8,
   "metadata": {},
   "outputs": [
    {
     "name": "stdout",
     "output_type": "stream",
     "text": [
      "Soft and cute panda plush toy with a friendly face. A bit small for the price, but arrived a day early. Daughter loves it and takes it everywhere."
     ]
    }
   ],
   "source": [
    "prompt = \"\"\"\n",
    "Your task is to generate a short summary of a product\n",
    "review from an ecommerce site. \n",
    "\n",
    "Summarize the review below, delimited by triple \n",
    "backticks, in at most 30 words. \n",
    "\n",
    "Review: ```$prod_review```\n",
    "\"\"\"\n",
    "\n",
    "response = get_completion(prompt)\n",
    "print(response)"
   ]
  },
  {
   "attachments": {},
   "cell_type": "markdown",
   "metadata": {},
   "source": [
    "Summarize with a focus on shipping and delivery"
   ]
  },
  {
   "cell_type": "code",
   "execution_count": 9,
   "metadata": {},
   "outputs": [
    {
     "name": "stdout",
     "output_type": "stream",
     "text": [
      "The panda plush toy arrived a day earlier than expected, but the customer felt it was a bit small for the price paid."
     ]
    }
   ],
   "source": [
    "prompt = \"\"\"\n",
    "Your task is to generate a short summary of a product\n",
    "review from an ecommerce site to give feedback to the\n",
    "Shipping deparmtment. \n",
    "\n",
    "Summarize the review below, delimited by triple \n",
    "backticks, in at most 30 words, and focusing on any aspects\n",
    "that mention shipping and delivery of the product. \n",
    "\n",
    "Review: ```$prod_review```\n",
    "\"\"\"\n",
    "\n",
    "response = get_completion(prompt)\n",
    "print(response)\n"
   ]
  },
  {
   "cell_type": "markdown",
   "metadata": {},
   "source": [
    "Summarize with a focus on price and value"
   ]
  },
  {
   "cell_type": "code",
   "execution_count": 10,
   "metadata": {},
   "outputs": [
    {
     "name": "stdout",
     "output_type": "stream",
     "text": [
      "The panda plush toy is soft, cute, and has a friendly look, but it's a bit small for the price. Other options may offer better value."
     ]
    }
   ],
   "source": [
    "prompt = \"\"\"\n",
    "Your task is to generate a short summary of a product\n",
    "review from an ecommerce site to give feedback to the\n",
    "pricing deparmtment, responsible for determining the\n",
    "price of the product.  \n",
    "\n",
    "Summarize the review below, delimited by triple \n",
    "backticks, in at most 30 words, and focusing on any aspects\n",
    "that are relevant to the price and perceived value. \n",
    "\n",
    "Review: ```$prod_review```\n",
    "\"\"\"\n",
    "\n",
    "response = get_completion(prompt)\n",
    "print(response)"
   ]
  },
  {
   "attachments": {},
   "cell_type": "markdown",
   "metadata": {},
   "source": [
    "#### Comment\n",
    "- Summaries include topics that are not related to the topic of focus.\n",
    "\n",
    "#### Try \"extract\" instead of \"summarize\""
   ]
  },
  {
   "cell_type": "code",
   "execution_count": 11,
   "metadata": {},
   "outputs": [
    {
     "name": "stdout",
     "output_type": "stream",
     "text": [
      "The product arrived a day earlier than expected."
     ]
    }
   ],
   "source": [
    "prompt = \"\"\"\n",
    "Your task is to extract relevant information from \n",
    "a product review from an ecommerce site to give\n",
    "feedback to the Shipping department. \n",
    "\n",
    "From the review below, delimited by triple quotes\n",
    "extract the information relevant to shipping and \n",
    "delivery. Limit to 30 words. \n",
    "\n",
    "Review: ```$prod_review```\n",
    "\"\"\"\n",
    "\n",
    "response = get_completion(prompt)\n",
    "print(response)"
   ]
  },
  {
   "cell_type": "markdown",
   "metadata": {},
   "source": [
    "## Summarize multiple product reviews"
   ]
  },
  {
   "cell_type": "code",
   "execution_count": 15,
   "metadata": {},
   "outputs": [],
   "source": [
    "review_1 = prod_review \n",
    "\n",
    "# review for a standing lamp\n",
    "review_2 = \"\"\"\n",
    "Needed a nice lamp for my bedroom, and this one \n",
    "had additional storage and not too high of a price \n",
    "point. Got it fast - arrived in 2 days. The string \n",
    "to the lamp broke during the transit and the company \n",
    "happily sent over a new one. Came within a few days \n",
    "as well. It was easy to put together. Then I had a \n",
    "missing part, so I contacted their support and they \n",
    "very quickly got me the missing piece! Seems to me \n",
    "to be a great company that cares about their customers \n",
    "and products. \n",
    "\"\"\"\n",
    "\n",
    "# review for an electric toothbrush\n",
    "review_3 = \"\"\"\n",
    "My dental hygienist recommended an electric toothbrush, \n",
    "which is why I got this. The battery life seems to be \n",
    "pretty impressive so far. After initial charging and \n",
    "leaving the charger plugged in for the first week to \n",
    "condition the battery, I've unplugged the charger and \n",
    "been using it for twice daily brushing for the last \n",
    "3 weeks all on the same charge. But the toothbrush head \n",
    "is too small. I’ve seen baby toothbrushes bigger than \n",
    "this one. I wish the head was bigger with different \n",
    "length bristles to get between teeth better because \n",
    "this one doesn’t.  Overall if you can get this one \n",
    "around the \\$50 mark, it's a good deal. The manufactuer's \n",
    "replacements heads are pretty expensive, but you can \n",
    "get generic ones that're more reasonably priced. This \n",
    "toothbrush makes me feel like I've been to the dentist \n",
    "every day. My teeth feel sparkly clean! \n",
    "\"\"\"\n",
    "\n",
    "# review for a blender\n",
    "review_4 = \"\"\"\n",
    "So, they still had the 17 piece system on seasonal \n",
    "sale for around \\$49 in the month of November, about \n",
    "half off, but for some reason (call it price gouging) \n",
    "around the second week of December the prices all went \n",
    "up to about anywhere from between \\$70-\\$89 for the same \n",
    "system. And the 11 piece system went up around \\$10 or \n",
    "so in price also from the earlier sale price of \\$29. \n",
    "So it looks okay, but if you look at the base, the part \n",
    "where the blade locks into place doesn’t look as good \n",
    "as in previous editions from a few years ago, but I \n",
    "plan to be very gentle with it (example, I crush \n",
    "very hard items like beans, ice, rice, etc. in the  \n",
    "blender first then pulverize them in the serving size \n",
    "I want in the blender then switch to the whipping \n",
    "blade for a finer flour, and use the cross cutting blade \n",
    "first when making smoothies, then use the flat blade \n",
    "if I need them finer/less pulpy). Special tip when making \n",
    "smoothies, finely cut and freeze the fruits and \n",
    "vegetables (if using spinach-lightly stew soften the  \n",
    "spinach then freeze until ready for use-and if making \n",
    "sorbet, use a small to medium sized food processor)  \n",
    "that you plan to use that way you can avoid adding so \n",
    "much ice if at all-when making your smoothie. \n",
    "After about a year, the motor was making a funny noise. \n",
    "I called customer service but the warranty expired \n",
    "already, so I had to buy another one. FYI: The overall \n",
    "quality has gone done in these types of products, so \n",
    "they are kind of counting on brand recognition and \n",
    "consumer loyalty to maintain sales. Got it in about \n",
    "two days.\n",
    "\"\"\"\n",
    "\n",
    "reviews = [review_1, review_2, review_3, review_4];"
   ]
  },
  {
   "cell_type": "code",
   "execution_count": 19,
   "metadata": {},
   "outputs": [
    {
     "name": "stdout",
     "output_type": "stream",
     "text": [
      "1: Soft and cute panda plush toy loved by daughter, but small for price. Arrived early.\n"
     ]
    },
    {
     "name": "stdout",
     "output_type": "stream",
     "text": [
      "2: Great lamp with storage, fast delivery, excellent customer service. Easy to assemble. Highly recommended.\n"
     ]
    },
    {
     "name": "stdout",
     "output_type": "stream",
     "text": [
      "3: Good battery life, small brush head, good deal at $50, makes teeth feel clean.\n"
     ]
    },
    {
     "name": "stdout",
     "output_type": "stream",
     "text": [
      "4: Product price increased after seasonal sale, base quality not as good as previous editions, motor had issues after a year.\n"
     ]
    }
   ],
   "source": [
    "for i in 1:length(reviews)\n",
    "    prompt = \"\"\"\n",
    "    Your task is to generate a short summary of a product \n",
    "    review from an ecommerce site.\n",
    "\n",
    "    Summarize the review below, delimited by triple\n",
    "    backticks in at most 20 words.\n",
    "\n",
    "    Review: ```$(reviews[i])```\n",
    "    \"\"\"\n",
    "\n",
    "    response = get_completion(prompt)\n",
    "    println(i,\": \", response)\n",
    "end"
   ]
  },
  {
   "cell_type": "code",
   "execution_count": null,
   "metadata": {},
   "outputs": [],
   "source": []
  }
 ],
 "metadata": {
  "kernelspec": {
   "display_name": "Julia 1.8.5",
   "language": "julia",
   "name": "julia-1.8"
  },
  "language_info": {
   "file_extension": ".jl",
   "mimetype": "application/julia",
   "name": "julia",
   "version": "1.8.5"
  },
  "orig_nbformat": 4
 },
 "nbformat": 4,
 "nbformat_minor": 2
}
